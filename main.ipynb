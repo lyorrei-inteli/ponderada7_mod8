{
 "cells": [
  {
   "cell_type": "markdown",
   "metadata": {},
   "source": [
    "# Treinamento de rede Convulacional para classificação de imagens de números"
   ]
  },
  {
   "cell_type": "markdown",
   "metadata": {},
   "source": [
    "Este código constrói, treina e avalia uma CNN no dataset MNIST, esperando-se que alcance uma acurácia de mais de 95% no conjunto de treino após 3 épocas."
   ]
  },
  {
   "cell_type": "markdown",
   "metadata": {},
   "source": [
    "## Importação de Bibliotecas"
   ]
  },
  {
   "cell_type": "markdown",
   "metadata": {},
   "source": [
    "- tensorflow: É a biblioteca de aprendizado de máquina que usamos para construir e treinar o modelo.\n",
    "- datasets, layers, models: São submódulos do TensorFlow. datasets é usado para carregar datasets pré-existentes, layers fornece as camadas que serão usadas na rede neural, e models é usado para definir e compilar o modelo."
   ]
  },
  {
   "cell_type": "code",
   "execution_count": 14,
   "metadata": {},
   "outputs": [],
   "source": [
    "import tensorflow as tf\n",
    "from tensorflow.keras import datasets, layers, models"
   ]
  },
  {
   "cell_type": "markdown",
   "metadata": {},
   "source": [
    "## Carregamento e Preparação do Dataset MNIST"
   ]
  },
  {
   "cell_type": "markdown",
   "metadata": {},
   "source": [
    "Carrega o dataset MNIST, que contém imagens de dígitos escritos à mão. O dataset é dividido em conjuntos de treinamento (train_images, train_labels) e teste (test_images, test_labels)."
   ]
  },
  {
   "cell_type": "code",
   "execution_count": 15,
   "metadata": {},
   "outputs": [],
   "source": [
    "# Carregar o dataset MNIST\n",
    "(train_images, train_labels), (test_images, test_labels) = datasets.mnist.load_data()"
   ]
  },
  {
   "cell_type": "markdown",
   "metadata": {},
   "source": [
    "Normaliza as imagens dividindo os valores dos pixels por 255. Isso transforma os valores de pixel para o intervalo de 0 a 1, o que é mais eficiente para o treinamento da rede neural."
   ]
  },
  {
   "cell_type": "code",
   "execution_count": 16,
   "metadata": {},
   "outputs": [],
   "source": [
    "# Normalizar os dados de imagem\n",
    "train_images, test_images = train_images / 255.0, test_images / 255.0"
   ]
  },
  {
   "cell_type": "markdown",
   "metadata": {},
   "source": [
    "Redimensiona as imagens para adicionar um canal extra. Originalmente, as imagens do MNIST são 28x28 pixels. Aqui, elas são redimensionadas para terem um canal extra, indicando que são imagens em escala de cinza (1 canal)."
   ]
  },
  {
   "cell_type": "code",
   "execution_count": 17,
   "metadata": {},
   "outputs": [],
   "source": [
    "# Redimensionar as imagens para adicionar um canal extra (escala de cinza)\n",
    "train_images = train_images.reshape((60000, 28, 28, 1))\n",
    "test_images = test_images.reshape((10000, 28, 28, 1))"
   ]
  },
  {
   "cell_type": "markdown",
   "metadata": {},
   "source": [
    "- models.Sequential: Define o modelo como uma sequência de camadas.\n",
    "- layers.Conv2D: São camadas convolucionais que extraem características das imagens. 32 e 64 são o número de filtros. (3, 3) é o tamanho do kernel.\n",
    "- layers.MaxPooling2D: Reduz a dimensionalidade espacial (tamanho) das imagens após a convolução, o que ajuda a reduzir o número de parâmetros e a computação na rede.\n",
    "- layers.Flatten: Transforma os mapas de características 2D resultantes em um vetor 1D.\n",
    "- layers.Dense: São camadas densamente conectadas (tradicionais de redes neurais). 64 é o número de neurônios na primeira camada densa, e 10 na última camada corresponde ao número de classes de dígitos (0-9)."
   ]
  },
  {
   "cell_type": "code",
   "execution_count": 18,
   "metadata": {},
   "outputs": [],
   "source": [
    "# Construir a CNN\n",
    "model = models.Sequential([\n",
    "    layers.Conv2D(32, (3, 3), activation='relu', input_shape=(28, 28, 1)),\n",
    "    layers.MaxPooling2D((2, 2)),\n",
    "    layers.Conv2D(64, (3, 3), activation='relu'),\n",
    "    layers.MaxPooling2D((2, 2)),\n",
    "    layers.Conv2D(64, (3, 3), activation='relu'),\n",
    "    layers.Flatten(),\n",
    "    layers.Dense(64, activation='relu'),\n",
    "    layers.Dense(10)\n",
    "])"
   ]
  },
  {
   "cell_type": "markdown",
   "metadata": {},
   "source": [
    "## Compilação do Modelo"
   ]
  },
  {
   "cell_type": "markdown",
   "metadata": {},
   "source": [
    "- model.compile: Configura o modelo para o treinamento.\n",
    "- optimizer='adam': Define o otimizador Adam, que é um método de descida do gradiente estocástico.\n",
    "- loss=tf.keras.losses.SparseCategoricalCrossentropy(from_logits=True): Define a função de perda, que é usada para calcular o quão bem o modelo está fazendo durante o treinamento.\n",
    "- metrics=['accuracy']: Define a métrica de avaliação, que neste caso é a acurácia."
   ]
  },
  {
   "cell_type": "code",
   "execution_count": 19,
   "metadata": {},
   "outputs": [],
   "source": [
    "# Compilar o modelo\n",
    "model.compile(optimizer='adam',\n",
    "              loss=tf.keras.losses.SparseCategoricalCrossentropy(from_logits=True),\n",
    "              metrics=['accuracy'])\n",
    "\n"
   ]
  },
  {
   "cell_type": "markdown",
   "metadata": {},
   "source": [
    "## Treinamento do Modelo"
   ]
  },
  {
   "cell_type": "markdown",
   "metadata": {},
   "source": [
    "- model.fit: Treina o modelo no dataset de treinamento.\n",
    "- epochs=3 significa que o dataset inteiro passará pelo modelo três vezes."
   ]
  },
  {
   "cell_type": "code",
   "execution_count": 20,
   "metadata": {},
   "outputs": [
    {
     "name": "stdout",
     "output_type": "stream",
     "text": [
      "Epoch 1/3\n",
      "1875/1875 [==============================] - 13s 7ms/step - loss: 0.1592 - accuracy: 0.9509 - val_loss: 0.0494 - val_accuracy: 0.9848\n",
      "Epoch 2/3\n",
      "1875/1875 [==============================] - 14s 7ms/step - loss: 0.0492 - accuracy: 0.9844 - val_loss: 0.0571 - val_accuracy: 0.9820\n",
      "Epoch 3/3\n",
      "1875/1875 [==============================] - 13s 7ms/step - loss: 0.0351 - accuracy: 0.9893 - val_loss: 0.0318 - val_accuracy: 0.9895\n"
     ]
    },
    {
     "data": {
      "text/plain": [
       "<keras.src.callbacks.History at 0x297a564d0>"
      ]
     },
     "execution_count": 20,
     "metadata": {},
     "output_type": "execute_result"
    }
   ],
   "source": [
    "# Treinar o modelo\n",
    "model.fit(train_images, train_labels, epochs=3, validation_data=(test_images, test_labels))"
   ]
  },
  {
   "cell_type": "markdown",
   "metadata": {},
   "source": [
    "## Avaliação do Modelo"
   ]
  },
  {
   "cell_type": "markdown",
   "metadata": {},
   "source": [
    "- model.evaluate: Avalia o desempenho do modelo no dataset de teste.\n",
    "- test_acc: Exibe a acurácia do modelo no dataset de teste."
   ]
  },
  {
   "cell_type": "code",
   "execution_count": 21,
   "metadata": {},
   "outputs": [
    {
     "name": "stdout",
     "output_type": "stream",
     "text": [
      "313/313 - 1s - loss: 0.0318 - accuracy: 0.9895 - 599ms/epoch - 2ms/step\n",
      "\n",
      "Test accuracy: 0.9894999861717224\n"
     ]
    }
   ],
   "source": [
    "# Avaliar o modelo\n",
    "test_loss, test_acc = model.evaluate(test_images,  test_labels, verbose=2)\n",
    "print(f'\\nTest accuracy: {test_acc}')"
   ]
  },
  {
   "cell_type": "markdown",
   "metadata": {},
   "source": [
    "## Teste do modelo com uma imagem"
   ]
  },
  {
   "cell_type": "code",
   "execution_count": 26,
   "metadata": {},
   "outputs": [],
   "source": [
    "import random\n",
    "import matplotlib.pyplot as plt\n",
    "\n",
    "# Escolher uma imagem aleatoriamente do dataset MNIST\n",
    "random_index = random.randint(0, 9999)\n",
    "random_image = test_images[random_index]\n",
    "random_image_reshaped = random_image.reshape(1, 28, 28, 1)"
   ]
  },
  {
   "cell_type": "markdown",
   "metadata": {},
   "source": [
    "Realiza a predição de uma imagem do dataset de teste e mostra o resultado."
   ]
  },
  {
   "cell_type": "code",
   "execution_count": 27,
   "metadata": {},
   "outputs": [
    {
     "name": "stdout",
     "output_type": "stream",
     "text": [
      "1/1 [==============================] - 0s 56ms/step\n"
     ]
    },
    {
     "data": {
      "image/png": "[encoded data removed]",
      "text/plain": [
       "<Figure size 640x480 with 1 Axes>"
      ]
     },
     "metadata": {},
     "output_type": "display_data"
    }
   ],
   "source": [
    "# Fazer a predição\n",
    "predictions = model.predict(random_image_reshaped)\n",
    "predicted_label = np.argmax(predictions)\n",
    "\n",
    "# Mostrar a imagem e a predição\n",
    "plt.figure()\n",
    "plt.imshow(random_image.reshape(28, 28), cmap=plt.cm.binary)\n",
    "plt.title(f'Predicted Label: {predicted_label}')\n",
    "plt.show()"
   ]
  }
 ],
 "metadata": {
  "kernelspec": {
   "display_name": ".venv",
   "language": "python",
   "name": "python3"
  },
  "language_info": {
   "codemirror_mode": {
    "name": "ipython",
    "version": 3
   },
   "file_extension": ".py",
   "mimetype": "text/x-python",
   "name": "python",
   "nbconvert_exporter": "python",
   "pygments_lexer": "ipython3",
   "version": "3.11.5"
  }
 },
 "nbformat": 4,
 "nbformat_minor": 2
}
